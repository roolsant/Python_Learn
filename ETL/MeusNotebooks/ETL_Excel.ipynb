{
 "cells": [
  {
   "cell_type": "markdown",
   "id": "78782511",
   "metadata": {},
   "source": [
    "##### Importando as bibliotecas"
   ]
  },
  {
   "cell_type": "code",
   "execution_count": 1,
   "id": "b0a3fabd",
   "metadata": {},
   "outputs": [],
   "source": [
    "import pandas as pd"
   ]
  },
  {
   "cell_type": "markdown",
   "id": "dfc39509",
   "metadata": {},
   "source": [
    "##### Criando o Dataframe"
   ]
  },
  {
   "cell_type": "code",
   "execution_count": 2,
   "id": "686126da",
   "metadata": {},
   "outputs": [
    {
     "data": {
      "application/vnd.microsoft.datawrangler.viewer.v0+json": {
       "columns": [
        {
         "name": "index",
         "rawType": "int64",
         "type": "integer"
        },
        {
         "name": "ID",
         "rawType": "int64",
         "type": "integer"
        },
        {
         "name": "Name",
         "rawType": "object",
         "type": "string"
        },
        {
         "name": "Price",
         "rawType": "int64",
         "type": "integer"
        },
        {
         "name": "Id_Category",
         "rawType": "int64",
         "type": "integer"
        }
       ],
       "ref": "1ab5a942-3c07-48b8-81ba-305bb8d273f0",
       "rows": [
        [
         "0",
         "0",
         "Sapato vermelho",
         "96",
         "0"
        ],
        [
         "1",
         "1",
         "Bolsa mais que Velha",
         "8000",
         "0"
        ],
        [
         "2",
         "2",
         "Calça",
         "75",
         "0"
        ],
        [
         "3",
         "3",
         "Camisa apertadinha",
         "170",
         "0"
        ],
        [
         "4",
         "4",
         "Vestido Super curto",
         "57",
         "0"
        ]
       ],
       "shape": {
        "columns": 4,
        "rows": 5
       }
      },
      "text/html": [
       "<div>\n",
       "<style scoped>\n",
       "    .dataframe tbody tr th:only-of-type {\n",
       "        vertical-align: middle;\n",
       "    }\n",
       "\n",
       "    .dataframe tbody tr th {\n",
       "        vertical-align: top;\n",
       "    }\n",
       "\n",
       "    .dataframe thead th {\n",
       "        text-align: right;\n",
       "    }\n",
       "</style>\n",
       "<table border=\"1\" class=\"dataframe\">\n",
       "  <thead>\n",
       "    <tr style=\"text-align: right;\">\n",
       "      <th></th>\n",
       "      <th>ID</th>\n",
       "      <th>Name</th>\n",
       "      <th>Price</th>\n",
       "      <th>Id_Category</th>\n",
       "    </tr>\n",
       "  </thead>\n",
       "  <tbody>\n",
       "    <tr>\n",
       "      <th>0</th>\n",
       "      <td>0</td>\n",
       "      <td>Sapato vermelho</td>\n",
       "      <td>96</td>\n",
       "      <td>0</td>\n",
       "    </tr>\n",
       "    <tr>\n",
       "      <th>1</th>\n",
       "      <td>1</td>\n",
       "      <td>Bolsa mais que Velha</td>\n",
       "      <td>8000</td>\n",
       "      <td>0</td>\n",
       "    </tr>\n",
       "    <tr>\n",
       "      <th>2</th>\n",
       "      <td>2</td>\n",
       "      <td>Calça</td>\n",
       "      <td>75</td>\n",
       "      <td>0</td>\n",
       "    </tr>\n",
       "    <tr>\n",
       "      <th>3</th>\n",
       "      <td>3</td>\n",
       "      <td>Camisa apertadinha</td>\n",
       "      <td>170</td>\n",
       "      <td>0</td>\n",
       "    </tr>\n",
       "    <tr>\n",
       "      <th>4</th>\n",
       "      <td>4</td>\n",
       "      <td>Vestido Super curto</td>\n",
       "      <td>57</td>\n",
       "      <td>0</td>\n",
       "    </tr>\n",
       "  </tbody>\n",
       "</table>\n",
       "</div>"
      ],
      "text/plain": [
       "   ID                  Name  Price  Id_Category\n",
       "0   0       Sapato vermelho     96            0\n",
       "1   1  Bolsa mais que Velha   8000            0\n",
       "2   2                 Calça     75            0\n",
       "3   3    Camisa apertadinha    170            0\n",
       "4   4   Vestido Super curto     57            0"
      ]
     },
     "execution_count": 2,
     "metadata": {},
     "output_type": "execute_result"
    }
   ],
   "source": [
    "CaminhoArquivo = r'C:\\Python\\ETL\\ArquivosExcel\\Produto.xlsx'\n",
    "df = pd.read_excel(CaminhoArquivo)\n",
    "df.head()"
   ]
  },
  {
   "cell_type": "markdown",
   "id": "5fc72459",
   "metadata": {},
   "source": [
    "##### Listar itens distintos de uma coluna"
   ]
  },
  {
   "cell_type": "code",
   "execution_count": 3,
   "id": "0ba4fc51",
   "metadata": {},
   "outputs": [
    {
     "data": {
      "text/plain": [
       "array(['Sapato vermelho', 'Bolsa mais que Velha', 'Calça',\n",
       "       'Camisa apertadinha', 'Vestido Super curto', 'Perfume',\n",
       "       'Creme de Barbear', 'Hidratante caro', 'Shampoo', 'Protetor Solar',\n",
       "       'Geladeira', 'Fogão', 'TV', 'Máquina de Lavar', 'Máquina de Secar',\n",
       "       'O Romance Exagerado', 'Suspense Demais', 'Terror Aterrorizante',\n",
       "       'A Comédia Engraçada', 'A História de SQL', 'Ai-Fone',\n",
       "       'Galáxia R10', 'Chiai-homi', 'Ruaei', 'Nóquia', 'Mouse', 'Teclado',\n",
       "       'Pen-Drive', 'Impressora', 'HD Externo', 'Poltrona', 'Almofada',\n",
       "       'Cadeira', 'Sofá', 'Mesa', 'Video-Game', 'Máquina Fotográfica',\n",
       "       'Notebook', 'PC', 'Secador de Cabelo', 'Chuteira', 'Tornozeleira',\n",
       "       'Raquete', 'Bola', 'Pebolim', 'Futebol 2020', 'Iôiô', 'Peão',\n",
       "       'Bey-Blade', 'Casinha de Boneca'], dtype=object)"
      ]
     },
     "execution_count": 3,
     "metadata": {},
     "output_type": "execute_result"
    }
   ],
   "source": [
    "Coluna = 'Name'\n",
    "\n",
    "dfDistintos = df[Coluna].unique()\n",
    "dfDistintos"
   ]
  },
  {
   "cell_type": "markdown",
   "id": "7141c90c",
   "metadata": {},
   "source": [
    "##### Operacoes de Pesquisa"
   ]
  },
  {
   "cell_type": "markdown",
   "id": "5f1d28a0",
   "metadata": {},
   "source": []
  },
  {
   "cell_type": "code",
   "execution_count": 4,
   "id": "e381c764",
   "metadata": {},
   "outputs": [
    {
     "data": {
      "application/vnd.microsoft.datawrangler.viewer.v0+json": {
       "columns": [
        {
         "name": "index",
         "rawType": "int64",
         "type": "integer"
        },
        {
         "name": "ID",
         "rawType": "int64",
         "type": "integer"
        },
        {
         "name": "Name",
         "rawType": "object",
         "type": "string"
        },
        {
         "name": "Price",
         "rawType": "int64",
         "type": "integer"
        },
        {
         "name": "Id_Category",
         "rawType": "int64",
         "type": "integer"
        }
       ],
       "ref": "0ddec232-dbb5-4297-ab6d-6b27d0bd9e33",
       "rows": [
        [
         "2",
         "2",
         "Calça",
         "75",
         "0"
        ]
       ],
       "shape": {
        "columns": 4,
        "rows": 1
       }
      },
      "text/html": [
       "<div>\n",
       "<style scoped>\n",
       "    .dataframe tbody tr th:only-of-type {\n",
       "        vertical-align: middle;\n",
       "    }\n",
       "\n",
       "    .dataframe tbody tr th {\n",
       "        vertical-align: top;\n",
       "    }\n",
       "\n",
       "    .dataframe thead th {\n",
       "        text-align: right;\n",
       "    }\n",
       "</style>\n",
       "<table border=\"1\" class=\"dataframe\">\n",
       "  <thead>\n",
       "    <tr style=\"text-align: right;\">\n",
       "      <th></th>\n",
       "      <th>ID</th>\n",
       "      <th>Name</th>\n",
       "      <th>Price</th>\n",
       "      <th>Id_Category</th>\n",
       "    </tr>\n",
       "  </thead>\n",
       "  <tbody>\n",
       "    <tr>\n",
       "      <th>2</th>\n",
       "      <td>2</td>\n",
       "      <td>Calça</td>\n",
       "      <td>75</td>\n",
       "      <td>0</td>\n",
       "    </tr>\n",
       "  </tbody>\n",
       "</table>\n",
       "</div>"
      ],
      "text/plain": [
       "   ID   Name  Price  Id_Category\n",
       "2   2  Calça     75            0"
      ]
     },
     "execution_count": 4,
     "metadata": {},
     "output_type": "execute_result"
    }
   ],
   "source": [
    "Item = 'Calça'\n",
    "dfItem = (df.loc[df['Name'] == Item])\n",
    "dfItem"
   ]
  },
  {
   "cell_type": "code",
   "execution_count": 5,
   "id": "2cfbc8c8",
   "metadata": {},
   "outputs": [
    {
     "data": {
      "application/vnd.microsoft.datawrangler.viewer.v0+json": {
       "columns": [
        {
         "name": "index",
         "rawType": "int64",
         "type": "integer"
        },
        {
         "name": "ID",
         "rawType": "int64",
         "type": "integer"
        },
        {
         "name": "Name",
         "rawType": "object",
         "type": "string"
        },
        {
         "name": "Price",
         "rawType": "int64",
         "type": "integer"
        },
        {
         "name": "Id_Category",
         "rawType": "int64",
         "type": "integer"
        }
       ],
       "ref": "bee8755b-0fc5-45ab-a8f5-e33ab592016c",
       "rows": [
        [
         "2",
         "2",
         "Calça",
         "75",
         "0"
        ],
        [
         "11",
         "11",
         "Fogão",
         "1373",
         "2"
        ],
        [
         "12",
         "12",
         "TV",
         "1992",
         "2"
        ],
        [
         "34",
         "34",
         "Mesa",
         "143",
         "6"
        ]
       ],
       "shape": {
        "columns": 4,
        "rows": 4
       }
      },
      "text/html": [
       "<div>\n",
       "<style scoped>\n",
       "    .dataframe tbody tr th:only-of-type {\n",
       "        vertical-align: middle;\n",
       "    }\n",
       "\n",
       "    .dataframe tbody tr th {\n",
       "        vertical-align: top;\n",
       "    }\n",
       "\n",
       "    .dataframe thead th {\n",
       "        text-align: right;\n",
       "    }\n",
       "</style>\n",
       "<table border=\"1\" class=\"dataframe\">\n",
       "  <thead>\n",
       "    <tr style=\"text-align: right;\">\n",
       "      <th></th>\n",
       "      <th>ID</th>\n",
       "      <th>Name</th>\n",
       "      <th>Price</th>\n",
       "      <th>Id_Category</th>\n",
       "    </tr>\n",
       "  </thead>\n",
       "  <tbody>\n",
       "    <tr>\n",
       "      <th>2</th>\n",
       "      <td>2</td>\n",
       "      <td>Calça</td>\n",
       "      <td>75</td>\n",
       "      <td>0</td>\n",
       "    </tr>\n",
       "    <tr>\n",
       "      <th>11</th>\n",
       "      <td>11</td>\n",
       "      <td>Fogão</td>\n",
       "      <td>1373</td>\n",
       "      <td>2</td>\n",
       "    </tr>\n",
       "    <tr>\n",
       "      <th>12</th>\n",
       "      <td>12</td>\n",
       "      <td>TV</td>\n",
       "      <td>1992</td>\n",
       "      <td>2</td>\n",
       "    </tr>\n",
       "    <tr>\n",
       "      <th>34</th>\n",
       "      <td>34</td>\n",
       "      <td>Mesa</td>\n",
       "      <td>143</td>\n",
       "      <td>6</td>\n",
       "    </tr>\n",
       "  </tbody>\n",
       "</table>\n",
       "</div>"
      ],
      "text/plain": [
       "    ID   Name  Price  Id_Category\n",
       "2    2  Calça     75            0\n",
       "11  11  Fogão   1373            2\n",
       "12  12     TV   1992            2\n",
       "34  34   Mesa    143            6"
      ]
     },
     "execution_count": 5,
     "metadata": {},
     "output_type": "execute_result"
    }
   ],
   "source": [
    "Itens = ['Fogão', 'Calça', 'Mesa', 'TV']\n",
    "\n",
    "dfItens = (df.loc[df['Name'].isin(Itens)])\n",
    "dfItens"
   ]
  },
  {
   "cell_type": "code",
   "execution_count": 6,
   "id": "6e0b6d41",
   "metadata": {},
   "outputs": [
    {
     "data": {
      "application/vnd.microsoft.datawrangler.viewer.v0+json": {
       "columns": [
        {
         "name": "index",
         "rawType": "int64",
         "type": "integer"
        },
        {
         "name": "ID",
         "rawType": "int64",
         "type": "integer"
        },
        {
         "name": "Name",
         "rawType": "object",
         "type": "string"
        },
        {
         "name": "Price",
         "rawType": "int64",
         "type": "integer"
        },
        {
         "name": "Id_Category",
         "rawType": "int64",
         "type": "integer"
        }
       ],
       "ref": "2320d7d6-a7ba-4a8a-96e2-8171c9b0e7dc",
       "rows": [
        [
         "22",
         "22",
         "Chiai-homi",
         "1152",
         "4"
        ],
        [
         "11",
         "11",
         "Fogão",
         "1373",
         "2"
        ],
        [
         "20",
         "20",
         "Ai-Fone",
         "1720",
         "4"
        ],
        [
         "14",
         "14",
         "Máquina de Secar",
         "1774",
         "2"
        ],
        [
         "13",
         "13",
         "Máquina de Lavar",
         "1826",
         "2"
        ],
        [
         "10",
         "10",
         "Geladeira",
         "1952",
         "2"
        ],
        [
         "12",
         "12",
         "TV",
         "1992",
         "2"
        ],
        [
         "21",
         "21",
         "Galáxia R10",
         "2007",
         "4"
        ],
        [
         "24",
         "24",
         "Nóquia",
         "2663",
         "4"
        ],
        [
         "23",
         "23",
         "Ruaei",
         "2795",
         "4"
        ],
        [
         "1",
         "1",
         "Bolsa mais que Velha",
         "8000",
         "0"
        ]
       ],
       "shape": {
        "columns": 4,
        "rows": 11
       }
      },
      "text/html": [
       "<div>\n",
       "<style scoped>\n",
       "    .dataframe tbody tr th:only-of-type {\n",
       "        vertical-align: middle;\n",
       "    }\n",
       "\n",
       "    .dataframe tbody tr th {\n",
       "        vertical-align: top;\n",
       "    }\n",
       "\n",
       "    .dataframe thead th {\n",
       "        text-align: right;\n",
       "    }\n",
       "</style>\n",
       "<table border=\"1\" class=\"dataframe\">\n",
       "  <thead>\n",
       "    <tr style=\"text-align: right;\">\n",
       "      <th></th>\n",
       "      <th>ID</th>\n",
       "      <th>Name</th>\n",
       "      <th>Price</th>\n",
       "      <th>Id_Category</th>\n",
       "    </tr>\n",
       "  </thead>\n",
       "  <tbody>\n",
       "    <tr>\n",
       "      <th>22</th>\n",
       "      <td>22</td>\n",
       "      <td>Chiai-homi</td>\n",
       "      <td>1152</td>\n",
       "      <td>4</td>\n",
       "    </tr>\n",
       "    <tr>\n",
       "      <th>11</th>\n",
       "      <td>11</td>\n",
       "      <td>Fogão</td>\n",
       "      <td>1373</td>\n",
       "      <td>2</td>\n",
       "    </tr>\n",
       "    <tr>\n",
       "      <th>20</th>\n",
       "      <td>20</td>\n",
       "      <td>Ai-Fone</td>\n",
       "      <td>1720</td>\n",
       "      <td>4</td>\n",
       "    </tr>\n",
       "    <tr>\n",
       "      <th>14</th>\n",
       "      <td>14</td>\n",
       "      <td>Máquina de Secar</td>\n",
       "      <td>1774</td>\n",
       "      <td>2</td>\n",
       "    </tr>\n",
       "    <tr>\n",
       "      <th>13</th>\n",
       "      <td>13</td>\n",
       "      <td>Máquina de Lavar</td>\n",
       "      <td>1826</td>\n",
       "      <td>2</td>\n",
       "    </tr>\n",
       "    <tr>\n",
       "      <th>10</th>\n",
       "      <td>10</td>\n",
       "      <td>Geladeira</td>\n",
       "      <td>1952</td>\n",
       "      <td>2</td>\n",
       "    </tr>\n",
       "    <tr>\n",
       "      <th>12</th>\n",
       "      <td>12</td>\n",
       "      <td>TV</td>\n",
       "      <td>1992</td>\n",
       "      <td>2</td>\n",
       "    </tr>\n",
       "    <tr>\n",
       "      <th>21</th>\n",
       "      <td>21</td>\n",
       "      <td>Galáxia R10</td>\n",
       "      <td>2007</td>\n",
       "      <td>4</td>\n",
       "    </tr>\n",
       "    <tr>\n",
       "      <th>24</th>\n",
       "      <td>24</td>\n",
       "      <td>Nóquia</td>\n",
       "      <td>2663</td>\n",
       "      <td>4</td>\n",
       "    </tr>\n",
       "    <tr>\n",
       "      <th>23</th>\n",
       "      <td>23</td>\n",
       "      <td>Ruaei</td>\n",
       "      <td>2795</td>\n",
       "      <td>4</td>\n",
       "    </tr>\n",
       "    <tr>\n",
       "      <th>1</th>\n",
       "      <td>1</td>\n",
       "      <td>Bolsa mais que Velha</td>\n",
       "      <td>8000</td>\n",
       "      <td>0</td>\n",
       "    </tr>\n",
       "  </tbody>\n",
       "</table>\n",
       "</div>"
      ],
      "text/plain": [
       "    ID                  Name  Price  Id_Category\n",
       "22  22            Chiai-homi   1152            4\n",
       "11  11                 Fogão   1373            2\n",
       "20  20               Ai-Fone   1720            4\n",
       "14  14      Máquina de Secar   1774            2\n",
       "13  13      Máquina de Lavar   1826            2\n",
       "10  10             Geladeira   1952            2\n",
       "12  12                    TV   1992            2\n",
       "21  21           Galáxia R10   2007            4\n",
       "24  24                Nóquia   2663            4\n",
       "23  23                 Ruaei   2795            4\n",
       "1    1  Bolsa mais que Velha   8000            0"
      ]
     },
     "execution_count": 6,
     "metadata": {},
     "output_type": "execute_result"
    }
   ],
   "source": [
    "dfM1000 = df.loc[df['Price'] > 1000].sort_values('Price')\n",
    "dfM1000"
   ]
  },
  {
   "cell_type": "code",
   "execution_count": 7,
   "id": "c9878a23",
   "metadata": {},
   "outputs": [
    {
     "data": {
      "application/vnd.microsoft.datawrangler.viewer.v0+json": {
       "columns": [
        {
         "name": "index",
         "rawType": "int64",
         "type": "integer"
        },
        {
         "name": "ID",
         "rawType": "int64",
         "type": "integer"
        },
        {
         "name": "Name",
         "rawType": "object",
         "type": "string"
        },
        {
         "name": "Price",
         "rawType": "int64",
         "type": "integer"
        },
        {
         "name": "Id_Category",
         "rawType": "int64",
         "type": "integer"
        }
       ],
       "ref": "980ce018-b309-4c36-8b73-927e8c520905",
       "rows": [
        [
         "36",
         "36",
         "Máquina Fotográfica",
         "377",
         "7"
        ],
        [
         "38",
         "38",
         "PC",
         "385",
         "7"
        ],
        [
         "37",
         "37",
         "Notebook",
         "493",
         "7"
        ],
        [
         "39",
         "39",
         "Secador de Cabelo",
         "580",
         "7"
        ],
        [
         "35",
         "35",
         "Video-Game",
         "602",
         "7"
        ],
        [
         "7",
         "7",
         "Hidratante caro",
         "800",
         "1"
        ]
       ],
       "shape": {
        "columns": 4,
        "rows": 6
       }
      },
      "text/html": [
       "<div>\n",
       "<style scoped>\n",
       "    .dataframe tbody tr th:only-of-type {\n",
       "        vertical-align: middle;\n",
       "    }\n",
       "\n",
       "    .dataframe tbody tr th {\n",
       "        vertical-align: top;\n",
       "    }\n",
       "\n",
       "    .dataframe thead th {\n",
       "        text-align: right;\n",
       "    }\n",
       "</style>\n",
       "<table border=\"1\" class=\"dataframe\">\n",
       "  <thead>\n",
       "    <tr style=\"text-align: right;\">\n",
       "      <th></th>\n",
       "      <th>ID</th>\n",
       "      <th>Name</th>\n",
       "      <th>Price</th>\n",
       "      <th>Id_Category</th>\n",
       "    </tr>\n",
       "  </thead>\n",
       "  <tbody>\n",
       "    <tr>\n",
       "      <th>36</th>\n",
       "      <td>36</td>\n",
       "      <td>Máquina Fotográfica</td>\n",
       "      <td>377</td>\n",
       "      <td>7</td>\n",
       "    </tr>\n",
       "    <tr>\n",
       "      <th>38</th>\n",
       "      <td>38</td>\n",
       "      <td>PC</td>\n",
       "      <td>385</td>\n",
       "      <td>7</td>\n",
       "    </tr>\n",
       "    <tr>\n",
       "      <th>37</th>\n",
       "      <td>37</td>\n",
       "      <td>Notebook</td>\n",
       "      <td>493</td>\n",
       "      <td>7</td>\n",
       "    </tr>\n",
       "    <tr>\n",
       "      <th>39</th>\n",
       "      <td>39</td>\n",
       "      <td>Secador de Cabelo</td>\n",
       "      <td>580</td>\n",
       "      <td>7</td>\n",
       "    </tr>\n",
       "    <tr>\n",
       "      <th>35</th>\n",
       "      <td>35</td>\n",
       "      <td>Video-Game</td>\n",
       "      <td>602</td>\n",
       "      <td>7</td>\n",
       "    </tr>\n",
       "    <tr>\n",
       "      <th>7</th>\n",
       "      <td>7</td>\n",
       "      <td>Hidratante caro</td>\n",
       "      <td>800</td>\n",
       "      <td>1</td>\n",
       "    </tr>\n",
       "  </tbody>\n",
       "</table>\n",
       "</div>"
      ],
      "text/plain": [
       "    ID                 Name  Price  Id_Category\n",
       "36  36  Máquina Fotográfica    377            7\n",
       "38  38                   PC    385            7\n",
       "37  37             Notebook    493            7\n",
       "39  39    Secador de Cabelo    580            7\n",
       "35  35           Video-Game    602            7\n",
       "7    7      Hidratante caro    800            1"
      ]
     },
     "execution_count": 7,
     "metadata": {},
     "output_type": "execute_result"
    }
   ],
   "source": [
    "dfEntre200e1000 = df.loc[(df['Price'] >= 200) & (df['Price'] <= 1000)].sort_values('Price')\n",
    "dfEntre200e1000"
   ]
  }
 ],
 "metadata": {
  "kernelspec": {
   "display_name": "ETL (.venv - Python 3.12)",
   "language": "python",
   "name": "etl_venv"
  },
  "language_info": {
   "codemirror_mode": {
    "name": "ipython",
    "version": 3
   },
   "file_extension": ".py",
   "mimetype": "text/x-python",
   "name": "python",
   "nbconvert_exporter": "python",
   "pygments_lexer": "ipython3",
   "version": "3.12.6"
  }
 },
 "nbformat": 4,
 "nbformat_minor": 5
}
